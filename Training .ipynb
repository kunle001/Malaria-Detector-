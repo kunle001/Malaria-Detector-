{
 "cells": [
  {
   "cell_type": "code",
   "execution_count": 1,
   "id": "3bb0252f",
   "metadata": {},
   "outputs": [],
   "source": [
    "from tensorflow.keras.layers import Input, Lambda, Dense, Flatten,Conv2D\n",
    "from tensorflow.keras.models import Model\n",
    "from tensorflow.keras.applications.vgg19 import VGG19\n",
    "from tensorflow.keras.applications.resnet50 import preprocess_input\n",
    "from tensorflow.keras.preprocessing import image\n",
    "from tensorflow.keras.preprocessing.image import ImageDataGenerator, load_img\n",
    "from tensorflow.keras.models import Sequential \n",
    "import numpy as np \n",
    "from glob import glob \n",
    "import matplotlib.pyplot as plt "
   ]
  },
  {
   "cell_type": "code",
   "execution_count": 2,
   "id": "01bb21d3",
   "metadata": {},
   "outputs": [
    {
     "name": "stdout",
     "output_type": "stream",
     "text": [
      "2.9.1\n"
     ]
    }
   ],
   "source": [
    "import tensorflow as tf \n",
    "print(tf.__version__)"
   ]
  },
  {
   "cell_type": "code",
   "execution_count": 3,
   "id": "774c9dec",
   "metadata": {},
   "outputs": [],
   "source": [
    "IMAGE_SIZE= [224, 224]\n",
    "\n",
    "train_path = 'cell_images/Train'\n",
    "valid_path= 'cell_images/Test'"
   ]
  },
  {
   "cell_type": "code",
   "execution_count": 4,
   "id": "be6b30b2",
   "metadata": {},
   "outputs": [],
   "source": [
    "vgg19= VGG19(input_shape= IMAGE_SIZE + [3], weights= 'imagenet', include_top= False )"
   ]
  },
  {
   "cell_type": "code",
   "execution_count": 5,
   "id": "3847d8f8",
   "metadata": {},
   "outputs": [
    {
     "name": "stdout",
     "output_type": "stream",
     "text": [
      "Model: \"vgg19\"\n",
      "_________________________________________________________________\n",
      " Layer (type)                Output Shape              Param #   \n",
      "=================================================================\n",
      " input_1 (InputLayer)        [(None, 224, 224, 3)]     0         \n",
      "                                                                 \n",
      " block1_conv1 (Conv2D)       (None, 224, 224, 64)      1792      \n",
      "                                                                 \n",
      " block1_conv2 (Conv2D)       (None, 224, 224, 64)      36928     \n",
      "                                                                 \n",
      " block1_pool (MaxPooling2D)  (None, 112, 112, 64)      0         \n",
      "                                                                 \n",
      " block2_conv1 (Conv2D)       (None, 112, 112, 128)     73856     \n",
      "                                                                 \n",
      " block2_conv2 (Conv2D)       (None, 112, 112, 128)     147584    \n",
      "                                                                 \n",
      " block2_pool (MaxPooling2D)  (None, 56, 56, 128)       0         \n",
      "                                                                 \n",
      " block3_conv1 (Conv2D)       (None, 56, 56, 256)       295168    \n",
      "                                                                 \n",
      " block3_conv2 (Conv2D)       (None, 56, 56, 256)       590080    \n",
      "                                                                 \n",
      " block3_conv3 (Conv2D)       (None, 56, 56, 256)       590080    \n",
      "                                                                 \n",
      " block3_conv4 (Conv2D)       (None, 56, 56, 256)       590080    \n",
      "                                                                 \n",
      " block3_pool (MaxPooling2D)  (None, 28, 28, 256)       0         \n",
      "                                                                 \n",
      " block4_conv1 (Conv2D)       (None, 28, 28, 512)       1180160   \n",
      "                                                                 \n",
      " block4_conv2 (Conv2D)       (None, 28, 28, 512)       2359808   \n",
      "                                                                 \n",
      " block4_conv3 (Conv2D)       (None, 28, 28, 512)       2359808   \n",
      "                                                                 \n",
      " block4_conv4 (Conv2D)       (None, 28, 28, 512)       2359808   \n",
      "                                                                 \n",
      " block4_pool (MaxPooling2D)  (None, 14, 14, 512)       0         \n",
      "                                                                 \n",
      " block5_conv1 (Conv2D)       (None, 14, 14, 512)       2359808   \n",
      "                                                                 \n",
      " block5_conv2 (Conv2D)       (None, 14, 14, 512)       2359808   \n",
      "                                                                 \n",
      " block5_conv3 (Conv2D)       (None, 14, 14, 512)       2359808   \n",
      "                                                                 \n",
      " block5_conv4 (Conv2D)       (None, 14, 14, 512)       2359808   \n",
      "                                                                 \n",
      " block5_pool (MaxPooling2D)  (None, 7, 7, 512)         0         \n",
      "                                                                 \n",
      "=================================================================\n",
      "Total params: 20,024,384\n",
      "Trainable params: 20,024,384\n",
      "Non-trainable params: 0\n",
      "_________________________________________________________________\n"
     ]
    }
   ],
   "source": [
    "vgg19.summary()"
   ]
  },
  {
   "cell_type": "code",
   "execution_count": 6,
   "id": "81cfec13",
   "metadata": {},
   "outputs": [],
   "source": [
    "for layer in vgg19.layers:\n",
    "    layer.trainable= False"
   ]
  },
  {
   "cell_type": "code",
   "execution_count": 7,
   "id": "447a1907",
   "metadata": {},
   "outputs": [],
   "source": [
    "folders= glob('cell_images/Train/*') #to get the number of classes"
   ]
  },
  {
   "cell_type": "code",
   "execution_count": 8,
   "id": "a0d35f04",
   "metadata": {},
   "outputs": [],
   "source": [
    "x= Flatten()(vgg19.output) #our- layers - you can add more if you want "
   ]
  },
  {
   "cell_type": "code",
   "execution_count": 9,
   "id": "b1ec2fe5",
   "metadata": {},
   "outputs": [],
   "source": [
    "prediction= Dense(len(folders), activation= 'softmax')(x)"
   ]
  },
  {
   "cell_type": "code",
   "execution_count": 10,
   "id": "4f8919d4",
   "metadata": {},
   "outputs": [],
   "source": [
    "model_vgg19= Model(inputs= vgg19.input, outputs= prediction)"
   ]
  },
  {
   "cell_type": "code",
   "execution_count": 11,
   "id": "f57da1af",
   "metadata": {},
   "outputs": [
    {
     "name": "stdout",
     "output_type": "stream",
     "text": [
      "Model: \"model\"\n",
      "_________________________________________________________________\n",
      " Layer (type)                Output Shape              Param #   \n",
      "=================================================================\n",
      " input_1 (InputLayer)        [(None, 224, 224, 3)]     0         \n",
      "                                                                 \n",
      " block1_conv1 (Conv2D)       (None, 224, 224, 64)      1792      \n",
      "                                                                 \n",
      " block1_conv2 (Conv2D)       (None, 224, 224, 64)      36928     \n",
      "                                                                 \n",
      " block1_pool (MaxPooling2D)  (None, 112, 112, 64)      0         \n",
      "                                                                 \n",
      " block2_conv1 (Conv2D)       (None, 112, 112, 128)     73856     \n",
      "                                                                 \n",
      " block2_conv2 (Conv2D)       (None, 112, 112, 128)     147584    \n",
      "                                                                 \n",
      " block2_pool (MaxPooling2D)  (None, 56, 56, 128)       0         \n",
      "                                                                 \n",
      " block3_conv1 (Conv2D)       (None, 56, 56, 256)       295168    \n",
      "                                                                 \n",
      " block3_conv2 (Conv2D)       (None, 56, 56, 256)       590080    \n",
      "                                                                 \n",
      " block3_conv3 (Conv2D)       (None, 56, 56, 256)       590080    \n",
      "                                                                 \n",
      " block3_conv4 (Conv2D)       (None, 56, 56, 256)       590080    \n",
      "                                                                 \n",
      " block3_pool (MaxPooling2D)  (None, 28, 28, 256)       0         \n",
      "                                                                 \n",
      " block4_conv1 (Conv2D)       (None, 28, 28, 512)       1180160   \n",
      "                                                                 \n",
      " block4_conv2 (Conv2D)       (None, 28, 28, 512)       2359808   \n",
      "                                                                 \n",
      " block4_conv3 (Conv2D)       (None, 28, 28, 512)       2359808   \n",
      "                                                                 \n",
      " block4_conv4 (Conv2D)       (None, 28, 28, 512)       2359808   \n",
      "                                                                 \n",
      " block4_pool (MaxPooling2D)  (None, 14, 14, 512)       0         \n",
      "                                                                 \n",
      " block5_conv1 (Conv2D)       (None, 14, 14, 512)       2359808   \n",
      "                                                                 \n",
      " block5_conv2 (Conv2D)       (None, 14, 14, 512)       2359808   \n",
      "                                                                 \n",
      " block5_conv3 (Conv2D)       (None, 14, 14, 512)       2359808   \n",
      "                                                                 \n",
      " block5_conv4 (Conv2D)       (None, 14, 14, 512)       2359808   \n",
      "                                                                 \n",
      " block5_pool (MaxPooling2D)  (None, 7, 7, 512)         0         \n",
      "                                                                 \n",
      " flatten (Flatten)           (None, 25088)             0         \n",
      "                                                                 \n",
      " dense (Dense)               (None, 2)                 50178     \n",
      "                                                                 \n",
      "=================================================================\n",
      "Total params: 20,074,562\n",
      "Trainable params: 50,178\n",
      "Non-trainable params: 20,024,384\n",
      "_________________________________________________________________\n"
     ]
    }
   ],
   "source": [
    "model_vgg19.summary()"
   ]
  },
  {
   "cell_type": "code",
   "execution_count": null,
   "id": "534166b1",
   "metadata": {},
   "outputs": [],
   "source": []
  },
  {
   "cell_type": "markdown",
   "id": "ca63827b",
   "metadata": {},
   "source": [
    "#### Building Image Classification Model From Scratch"
   ]
  },
  {
   "cell_type": "code",
   "execution_count": 12,
   "id": "74672eac",
   "metadata": {},
   "outputs": [],
   "source": [
    "from tensorflow.keras.layers import MaxPooling2D"
   ]
  },
  {
   "cell_type": "code",
   "execution_count": 13,
   "id": "3e0a3424",
   "metadata": {},
   "outputs": [
    {
     "name": "stdout",
     "output_type": "stream",
     "text": [
      "Model: \"sequential\"\n",
      "_________________________________________________________________\n",
      " Layer (type)                Output Shape              Param #   \n",
      "=================================================================\n",
      " conv2d (Conv2D)             (None, 224, 224, 16)      208       \n",
      "                                                                 \n",
      " max_pooling2d (MaxPooling2D  (None, 112, 112, 16)     0         \n",
      " )                                                               \n",
      "                                                                 \n",
      " conv2d_1 (Conv2D)           (None, 112, 112, 32)      2080      \n",
      "                                                                 \n",
      " max_pooling2d_1 (MaxPooling  (None, 56, 56, 32)       0         \n",
      " 2D)                                                             \n",
      "                                                                 \n",
      " conv2d_2 (Conv2D)           (None, 56, 56, 64)        8256      \n",
      "                                                                 \n",
      " max_pooling2d_2 (MaxPooling  (None, 28, 28, 64)       0         \n",
      " 2D)                                                             \n",
      "                                                                 \n",
      " flatten_1 (Flatten)         (None, 50176)             0         \n",
      "                                                                 \n",
      " dense_1 (Dense)             (None, 500)               25088500  \n",
      "                                                                 \n",
      " dense_2 (Dense)             (None, 2)                 1002      \n",
      "                                                                 \n",
      "=================================================================\n",
      "Total params: 25,100,046\n",
      "Trainable params: 25,100,046\n",
      "Non-trainable params: 0\n",
      "_________________________________________________________________\n"
     ]
    }
   ],
   "source": [
    "### Create Model from scratch using CNN\n",
    "model=Sequential()\n",
    "model.add(Conv2D(filters=16,kernel_size=2,padding=\"same\",activation=\"relu\",input_shape=(224,224,3)))\n",
    "model.add(MaxPooling2D(pool_size=2))\n",
    "model.add(Conv2D(filters=32,kernel_size=2,padding=\"same\",activation =\"relu\"))\n",
    "model.add(MaxPooling2D(pool_size=2))\n",
    "model.add(Conv2D(filters=64,kernel_size=2,padding=\"same\",activation=\"relu\"))\n",
    "model.add(MaxPooling2D(pool_size=2))\n",
    "model.add(Flatten())\n",
    "model.add(Dense(500,activation=\"relu\"))\n",
    "model.add(Dense(2,activation=\"softmax\"))\n",
    "model.summary()"
   ]
  },
  {
   "cell_type": "code",
   "execution_count": 14,
   "id": "4912697b",
   "metadata": {},
   "outputs": [],
   "source": [
    "model.compile(\n",
    "loss= 'categorical_crossentropy',\n",
    "optimizer= 'adam',\n",
    "metrics= ['accuracy']\n",
    ")"
   ]
  },
  {
   "cell_type": "code",
   "execution_count": 15,
   "id": "ad197a51",
   "metadata": {},
   "outputs": [],
   "source": [
    "# to read the files from folder \n",
    "from tensorflow.keras.preprocessing.image import ImageDataGenerator\n",
    "\n",
    "train_datagen= ImageDataGenerator(rescale= 1./255,\n",
    "                                 shear_range=0.2,\n",
    "                                 zoom_range=0.2,\n",
    "                                 horizontal_flip=True)\n",
    "\n",
    "test_datagen= ImageDataGenerator(rescale= 1./255)"
   ]
  },
  {
   "cell_type": "code",
   "execution_count": 16,
   "id": "93991bc1",
   "metadata": {},
   "outputs": [
    {
     "name": "stdout",
     "output_type": "stream",
     "text": [
      "Found 416 images belonging to 2 classes.\n"
     ]
    }
   ],
   "source": [
    "training_set= train_datagen.flow_from_directory('cell_images/Train',\n",
    "                                               target_size= (224, 224),\n",
    "                                               batch_size=32,\n",
    "                                               class_mode='categorical'\n",
    "                                               )"
   ]
  },
  {
   "cell_type": "code",
   "execution_count": 17,
   "id": "da2dce8b",
   "metadata": {},
   "outputs": [
    {
     "name": "stdout",
     "output_type": "stream",
     "text": [
      "Found 134 images belonging to 2 classes.\n"
     ]
    }
   ],
   "source": [
    "test_set= test_datagen.flow_from_directory('cell_images/Test/',\n",
    "                                              target_size=(224,224),\n",
    "                                              batch_size= 32,\n",
    "                                              class_mode= 'categorical')"
   ]
  },
  {
   "cell_type": "code",
   "execution_count": 18,
   "id": "aa0c5637",
   "metadata": {},
   "outputs": [
    {
     "name": "stderr",
     "output_type": "stream",
     "text": [
      "C:\\Users\\user\\AppData\\Local\\Temp\\ipykernel_7332\\3815356001.py:1: UserWarning: `Model.fit_generator` is deprecated and will be removed in a future version. Please use `Model.fit`, which supports generators.\n",
      "  r= model.fit_generator(training_set,\n"
     ]
    },
    {
     "name": "stdout",
     "output_type": "stream",
     "text": [
      "Epoch 1/20\n",
      "13/13 [==============================] - 24s 2s/step - loss: 2.2879 - accuracy: 0.5216 - val_loss: 0.7409 - val_accuracy: 0.3955\n",
      "Epoch 2/20\n",
      "13/13 [==============================] - 23s 2s/step - loss: 0.6575 - accuracy: 0.6298 - val_loss: 0.7775 - val_accuracy: 0.3358\n",
      "Epoch 3/20\n",
      "13/13 [==============================] - 22s 2s/step - loss: 0.6502 - accuracy: 0.5986 - val_loss: 0.6759 - val_accuracy: 0.6791\n",
      "Epoch 4/20\n",
      "13/13 [==============================] - 22s 2s/step - loss: 0.6649 - accuracy: 0.5673 - val_loss: 0.7668 - val_accuracy: 0.3582\n",
      "Epoch 5/20\n",
      "13/13 [==============================] - 23s 2s/step - loss: 0.6178 - accuracy: 0.6490 - val_loss: 0.9304 - val_accuracy: 0.3433\n",
      "Epoch 6/20\n",
      "13/13 [==============================] - 22s 2s/step - loss: 0.5897 - accuracy: 0.6803 - val_loss: 0.8597 - val_accuracy: 0.3806\n",
      "Epoch 7/20\n",
      "13/13 [==============================] - 23s 2s/step - loss: 0.5038 - accuracy: 0.7524 - val_loss: 1.1250 - val_accuracy: 0.3358\n",
      "Epoch 8/20\n",
      "13/13 [==============================] - 23s 2s/step - loss: 0.4566 - accuracy: 0.7861 - val_loss: 0.9249 - val_accuracy: 0.3582\n",
      "Epoch 9/20\n",
      "13/13 [==============================] - 23s 2s/step - loss: 0.4592 - accuracy: 0.7644 - val_loss: 1.1716 - val_accuracy: 0.3582\n",
      "Epoch 10/20\n",
      "13/13 [==============================] - 23s 2s/step - loss: 0.4979 - accuracy: 0.7572 - val_loss: 0.8614 - val_accuracy: 0.3881\n",
      "Epoch 11/20\n",
      "13/13 [==============================] - 23s 2s/step - loss: 0.4016 - accuracy: 0.8077 - val_loss: 0.8713 - val_accuracy: 0.4925\n",
      "Epoch 12/20\n",
      "13/13 [==============================] - 23s 2s/step - loss: 0.4548 - accuracy: 0.7788 - val_loss: 0.7428 - val_accuracy: 0.5224\n",
      "Epoch 13/20\n",
      "13/13 [==============================] - 22s 2s/step - loss: 0.3972 - accuracy: 0.8269 - val_loss: 0.9508 - val_accuracy: 0.4403\n",
      "Epoch 14/20\n",
      "13/13 [==============================] - 23s 2s/step - loss: 0.3455 - accuracy: 0.8389 - val_loss: 1.0360 - val_accuracy: 0.4254\n",
      "Epoch 15/20\n",
      "13/13 [==============================] - 23s 2s/step - loss: 0.3400 - accuracy: 0.8438 - val_loss: 0.8307 - val_accuracy: 0.5075\n",
      "Epoch 16/20\n",
      "13/13 [==============================] - 23s 2s/step - loss: 0.3368 - accuracy: 0.8413 - val_loss: 1.0246 - val_accuracy: 0.4701\n",
      "Epoch 17/20\n",
      "13/13 [==============================] - 23s 2s/step - loss: 0.3505 - accuracy: 0.8389 - val_loss: 0.6369 - val_accuracy: 0.5970\n",
      "Epoch 18/20\n",
      "13/13 [==============================] - 23s 2s/step - loss: 0.3078 - accuracy: 0.8558 - val_loss: 0.9373 - val_accuracy: 0.5000\n",
      "Epoch 19/20\n",
      "13/13 [==============================] - 23s 2s/step - loss: 0.2806 - accuracy: 0.8822 - val_loss: 0.8187 - val_accuracy: 0.5149\n",
      "Epoch 20/20\n",
      "13/13 [==============================] - 22s 2s/step - loss: 0.2746 - accuracy: 0.8966 - val_loss: 0.7345 - val_accuracy: 0.5970\n"
     ]
    }
   ],
   "source": [
    "r= model.fit_generator(training_set,\n",
    "            validation_data= test_set,\n",
    "            epochs=20,\n",
    "            steps_per_epoch= len(training_set),\n",
    "            validation_steps= len(test_set)\n",
    "            )"
   ]
  },
  {
   "cell_type": "code",
   "execution_count": 19,
   "id": "e8de2018",
   "metadata": {},
   "outputs": [
    {
     "name": "stdout",
     "output_type": "stream",
     "text": [
      "No Gpu\n"
     ]
    }
   ],
   "source": [
    "if tf.test.gpu_device_name():\n",
    "    print('Default GPU Device: {}'.format(tf.test.gpu_device_name()))\n",
    "    \n",
    "else:\n",
    "    print('No Gpu')"
   ]
  },
  {
   "cell_type": "code",
   "execution_count": 20,
   "id": "5a6aa79a",
   "metadata": {},
   "outputs": [
    {
     "data": {
      "image/png": "[encoded data removed]",
      "text/plain": [
       "<Figure size 432x288 with 1 Axes>"
      ]
     },
     "metadata": {
      "needs_background": "light"
     },
     "output_type": "display_data"
    },
    {
     "data": {
      "image/png": "[encoded data removed]",
      "text/plain": [
       "<Figure size 432x288 with 1 Axes>"
      ]
     },
     "metadata": {
      "needs_background": "light"
     },
     "output_type": "display_data"
    },
    {
     "data": {
      "text/plain": [
       "<Figure size 432x288 with 0 Axes>"
      ]
     },
     "metadata": {},
     "output_type": "display_data"
    }
   ],
   "source": [
    "#plotting the loss\n",
    "\n",
    "plt.plot(r.history['loss'],label= 'train loss')\n",
    "plt.plot(r.history['val_loss'], label= 'val loss')\n",
    "plt.legend()\n",
    "plt.show()\n",
    "plt.savefig('Loss chart')\n",
    "\n",
    "#plot the accuracy\n",
    "\n",
    "plt.plot(r.history['accuracy'], label= 'train acc')\n",
    "plt.plot(r.history['val_accuracy'], label= 'val acc')\n",
    "plt.legend()\n",
    "plt.show()\n",
    "plt.savefig('Accuracy Chart')"
   ]
  },
  {
   "cell_type": "code",
   "execution_count": 21,
   "id": "d7b5ba54",
   "metadata": {},
   "outputs": [
    {
     "name": "stdout",
     "output_type": "stream",
     "text": [
      "5/5 [==============================] - 2s 313ms/step\n"
     ]
    }
   ],
   "source": [
    "y_pred=model.predict(test_set)"
   ]
  },
  {
   "cell_type": "code",
   "execution_count": 22,
   "id": "fc03fe36",
   "metadata": {},
   "outputs": [],
   "source": [
    "import numpy as np\n",
    "\n",
    "y_pred= np.argmax(y_pred, axis=1)"
   ]
  },
  {
   "cell_type": "code",
   "execution_count": 23,
   "id": "9576d59b",
   "metadata": {},
   "outputs": [],
   "source": [
    "from tensorflow.keras.models import load_model\n",
    "from tensorflow.keras.preprocessing import image "
   ]
  },
  {
   "cell_type": "code",
   "execution_count": 24,
   "id": "290e211f",
   "metadata": {},
   "outputs": [
    {
     "ename": "OSError",
     "evalue": "No file or directory found at model_vgg19.h5",
     "output_type": "error",
     "traceback": [
      "\u001b[1;31m---------------------------------------------------------------------------\u001b[0m",
      "\u001b[1;31mOSError\u001b[0m                                   Traceback (most recent call last)",
      "Input \u001b[1;32mIn [24]\u001b[0m, in \u001b[0;36m<cell line: 1>\u001b[1;34m()\u001b[0m\n\u001b[1;32m----> 1\u001b[0m model\u001b[38;5;241m=\u001b[39m \u001b[43mload_model\u001b[49m\u001b[43m(\u001b[49m\u001b[38;5;124;43m'\u001b[39;49m\u001b[38;5;124;43mmodel_vgg19.h5\u001b[39;49m\u001b[38;5;124;43m'\u001b[39;49m\u001b[43m)\u001b[49m\n",
      "File \u001b[1;32m~\\anaconda3\\lib\\site-packages\\keras\\utils\\traceback_utils.py:67\u001b[0m, in \u001b[0;36mfilter_traceback.<locals>.error_handler\u001b[1;34m(*args, **kwargs)\u001b[0m\n\u001b[0;32m     65\u001b[0m \u001b[38;5;28;01mexcept\u001b[39;00m \u001b[38;5;167;01mException\u001b[39;00m \u001b[38;5;28;01mas\u001b[39;00m e:  \u001b[38;5;66;03m# pylint: disable=broad-except\u001b[39;00m\n\u001b[0;32m     66\u001b[0m   filtered_tb \u001b[38;5;241m=\u001b[39m _process_traceback_frames(e\u001b[38;5;241m.\u001b[39m__traceback__)\n\u001b[1;32m---> 67\u001b[0m   \u001b[38;5;28;01mraise\u001b[39;00m e\u001b[38;5;241m.\u001b[39mwith_traceback(filtered_tb) \u001b[38;5;28;01mfrom\u001b[39;00m \u001b[38;5;28mNone\u001b[39m\n\u001b[0;32m     68\u001b[0m \u001b[38;5;28;01mfinally\u001b[39;00m:\n\u001b[0;32m     69\u001b[0m   \u001b[38;5;28;01mdel\u001b[39;00m filtered_tb\n",
      "File \u001b[1;32m~\\anaconda3\\lib\\site-packages\\keras\\saving\\save.py:206\u001b[0m, in \u001b[0;36mload_model\u001b[1;34m(filepath, custom_objects, compile, options)\u001b[0m\n\u001b[0;32m    204\u001b[0m \u001b[38;5;28;01mif\u001b[39;00m \u001b[38;5;28misinstance\u001b[39m(filepath_str, \u001b[38;5;28mstr\u001b[39m):\n\u001b[0;32m    205\u001b[0m   \u001b[38;5;28;01mif\u001b[39;00m \u001b[38;5;129;01mnot\u001b[39;00m tf\u001b[38;5;241m.\u001b[39mio\u001b[38;5;241m.\u001b[39mgfile\u001b[38;5;241m.\u001b[39mexists(filepath_str):\n\u001b[1;32m--> 206\u001b[0m     \u001b[38;5;28;01mraise\u001b[39;00m \u001b[38;5;167;01mIOError\u001b[39;00m(\u001b[38;5;124mf\u001b[39m\u001b[38;5;124m'\u001b[39m\u001b[38;5;124mNo file or directory found at \u001b[39m\u001b[38;5;132;01m{\u001b[39;00mfilepath_str\u001b[38;5;132;01m}\u001b[39;00m\u001b[38;5;124m'\u001b[39m)\n\u001b[0;32m    208\u001b[0m   \u001b[38;5;28;01mif\u001b[39;00m tf\u001b[38;5;241m.\u001b[39mio\u001b[38;5;241m.\u001b[39mgfile\u001b[38;5;241m.\u001b[39misdir(filepath_str):\n\u001b[0;32m    209\u001b[0m     \u001b[38;5;28;01mreturn\u001b[39;00m saved_model_load\u001b[38;5;241m.\u001b[39mload(filepath_str, \u001b[38;5;28mcompile\u001b[39m, options)\n",
      "\u001b[1;31mOSError\u001b[0m: No file or directory found at model_vgg19.h5"
     ]
    }
   ],
   "source": [
    "model= load_model('model_vgg19.h5')"
   ]
  },
  {
   "cell_type": "code",
   "execution_count": 25,
   "id": "0f22c203",
   "metadata": {},
   "outputs": [],
   "source": [
    "img= image.load_img('cell_images/Test/Uninfected/2.png', target_size= (224,224))"
   ]
  },
  {
   "cell_type": "code",
   "execution_count": 26,
   "id": "288855dc",
   "metadata": {},
   "outputs": [
    {
     "data": {
      "text/plain": [
       "array([[[0., 0., 0.],\n",
       "        [0., 0., 0.],\n",
       "        [0., 0., 0.],\n",
       "        ...,\n",
       "        [0., 0., 0.],\n",
       "        [0., 0., 0.],\n",
       "        [0., 0., 0.]],\n",
       "\n",
       "       [[0., 0., 0.],\n",
       "        [0., 0., 0.],\n",
       "        [0., 0., 0.],\n",
       "        ...,\n",
       "        [0., 0., 0.],\n",
       "        [0., 0., 0.],\n",
       "        [0., 0., 0.]],\n",
       "\n",
       "       [[0., 0., 0.],\n",
       "        [0., 0., 0.],\n",
       "        [0., 0., 0.],\n",
       "        ...,\n",
       "        [0., 0., 0.],\n",
       "        [0., 0., 0.],\n",
       "        [0., 0., 0.]],\n",
       "\n",
       "       ...,\n",
       "\n",
       "       [[0., 0., 0.],\n",
       "        [0., 0., 0.],\n",
       "        [0., 0., 0.],\n",
       "        ...,\n",
       "        [0., 0., 0.],\n",
       "        [0., 0., 0.],\n",
       "        [0., 0., 0.]],\n",
       "\n",
       "       [[0., 0., 0.],\n",
       "        [0., 0., 0.],\n",
       "        [0., 0., 0.],\n",
       "        ...,\n",
       "        [0., 0., 0.],\n",
       "        [0., 0., 0.],\n",
       "        [0., 0., 0.]],\n",
       "\n",
       "       [[0., 0., 0.],\n",
       "        [0., 0., 0.],\n",
       "        [0., 0., 0.],\n",
       "        ...,\n",
       "        [0., 0., 0.],\n",
       "        [0., 0., 0.],\n",
       "        [0., 0., 0.]]], dtype=float32)"
      ]
     },
     "execution_count": 26,
     "metadata": {},
     "output_type": "execute_result"
    }
   ],
   "source": [
    "x= image.img_to_array(img)\n",
    "x"
   ]
  },
  {
   "cell_type": "code",
   "execution_count": null,
   "id": "bc17df30",
   "metadata": {},
   "outputs": [],
   "source": []
  },
  {
   "cell_type": "code",
   "execution_count": 27,
   "id": "88184fe4",
   "metadata": {},
   "outputs": [],
   "source": [
    "x= x/255"
   ]
  },
  {
   "cell_type": "code",
   "execution_count": 28,
   "id": "76890ac2",
   "metadata": {},
   "outputs": [
    {
     "data": {
      "text/plain": [
       "(1, 224, 224, 3)"
      ]
     },
     "execution_count": 28,
     "metadata": {},
     "output_type": "execute_result"
    }
   ],
   "source": [
    "x= np.expand_dims(x,axis=0)\n",
    "img_data= preprocess_input(x)\n",
    "img_data.shape"
   ]
  },
  {
   "cell_type": "code",
   "execution_count": null,
   "id": "15c316f2",
   "metadata": {},
   "outputs": [
    {
     "name": "stderr",
     "output_type": "stream",
     "text": [
      "C:\\Users\\user\\AppData\\Local\\Temp\\ipykernel_7332\\3420764794.py:8: UserWarning: `Model.fit_generator` is deprecated and will be removed in a future version. Please use `Model.fit`, which supports generators.\n",
      "  model_vgg19.fit_generator(training_set,\n"
     ]
    },
    {
     "name": "stdout",
     "output_type": "stream",
     "text": [
      "Epoch 1/20\n",
      "13/13 [==============================] - 289s 22s/step - loss: 1.7183 - accuracy: 0.5240 - val_loss: 0.9603 - val_accuracy: 0.6791\n",
      "Epoch 2/20\n",
      "13/13 [==============================] - 286s 22s/step - loss: 0.8182 - accuracy: 0.6418 - val_loss: 0.7277 - val_accuracy: 0.6045\n",
      "Epoch 3/20\n",
      "13/13 [==============================] - 291s 23s/step - loss: 0.4532 - accuracy: 0.7909 - val_loss: 0.7934 - val_accuracy: 0.5821\n",
      "Epoch 4/20\n",
      "13/13 [==============================] - 288s 23s/step - loss: 0.3913 - accuracy: 0.8101 - val_loss: 0.4486 - val_accuracy: 0.7761\n",
      "Epoch 5/20\n",
      "13/13 [==============================] - 298s 23s/step - loss: 0.3247 - accuracy: 0.8654 - val_loss: 0.4668 - val_accuracy: 0.7537\n",
      "Epoch 6/20\n",
      "13/13 [==============================] - 291s 23s/step - loss: 0.3062 - accuracy: 0.8726 - val_loss: 0.3652 - val_accuracy: 0.8358\n",
      "Epoch 7/20\n",
      "13/13 [==============================] - 287s 22s/step - loss: 0.2937 - accuracy: 0.8870 - val_loss: 0.4417 - val_accuracy: 0.7761\n",
      "Epoch 8/20\n",
      "13/13 [==============================] - 285s 22s/step - loss: 0.2607 - accuracy: 0.9062 - val_loss: 0.3242 - val_accuracy: 0.8657\n",
      "Epoch 9/20\n",
      "13/13 [==============================] - 288s 23s/step - loss: 0.2604 - accuracy: 0.9014 - val_loss: 0.3423 - val_accuracy: 0.8731\n",
      "Epoch 10/20\n",
      "13/13 [==============================] - 286s 22s/step - loss: 0.2837 - accuracy: 0.8942 - val_loss: 0.2959 - val_accuracy: 0.8881\n",
      "Epoch 11/20\n",
      "13/13 [==============================] - 291s 23s/step - loss: 0.2518 - accuracy: 0.8918 - val_loss: 0.4268 - val_accuracy: 0.7836\n",
      "Epoch 12/20\n",
      "13/13 [==============================] - 282s 22s/step - loss: 0.2193 - accuracy: 0.9303 - val_loss: 0.2797 - val_accuracy: 0.9179\n",
      "Epoch 13/20\n",
      " 6/13 [============>.................] - ETA: 1:56 - loss: 0.2174 - accuracy: 0.9375"
     ]
    }
   ],
   "source": [
    "model_vgg19.compile(\n",
    "loss= 'categorical_crossentropy',\n",
    "optimizer= 'adam',\n",
    "metrics= ['accuracy']\n",
    ")\n",
    "\n",
    "\n",
    "model_vgg19.fit_generator(training_set,\n",
    "            validation_data= test_set,\n",
    "            epochs=20,\n",
    "            steps_per_epoch= len(training_set),\n",
    "            validation_steps= len(test_set)\n",
    "            )"
   ]
  },
  {
   "cell_type": "code",
   "execution_count": null,
   "id": "37d04954",
   "metadata": {},
   "outputs": [],
   "source": []
  },
  {
   "cell_type": "code",
   "execution_count": null,
   "id": "0d236293",
   "metadata": {},
   "outputs": [],
   "source": []
  },
  {
   "cell_type": "code",
   "execution_count": null,
   "id": "0815a9c3",
   "metadata": {},
   "outputs": [],
   "source": []
  },
  {
   "cell_type": "code",
   "execution_count": null,
   "id": "69ad7c44",
   "metadata": {},
   "outputs": [],
   "source": []
  }
 ],
 "metadata": {
  "kernelspec": {
   "display_name": "Python 3 (ipykernel)",
   "language": "python",
   "name": "python3"
  },
  "language_info": {
   "codemirror_mode": {
    "name": "ipython",
    "version": 3
   },
   "file_extension": ".py",
   "mimetype": "text/x-python",
   "name": "python",
   "nbconvert_exporter": "python",
   "pygments_lexer": "ipython3",
   "version": "3.9.12"
  }
 },
 "nbformat": 4,
 "nbformat_minor": 5
}
